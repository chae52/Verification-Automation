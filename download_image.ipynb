{
 "cells": [
  {
   "cell_type": "code",
   "execution_count": 1,
   "metadata": {
    "collapsed": true
   },
   "outputs": [],
   "source": [
    "import psycopg2\n",
    "import pandas as pd\n",
    "import numpy as np\n",
    "\n",
    "connection = psycopg2.connect(host=\"savable-database.cq3phxuo3rta.ap-northeast-2.rds.amazonaws.com\", dbname=\"savable_db\", user=\"postgres\", password=\"hundred100\", port=5432)\n",
    "# connection = psycopg2.connect(host=\"savable-database.cq3phxuo3rta.ap-northeast-2.rds.amazonaws.com\", dbname=savable_db, user=postgres, password=hundred100, port=5432)\n",
    "# host = endpoint\n",
    "# user = 마스터 사용자의 이름"
   ]
  },
  {
   "cell_type": "code",
   "execution_count": 2,
   "outputs": [],
   "source": [
    "cur = connection.cursor() # cursor라는 인스턴스를 만들어서 그 인스턴스를 통해 데이터 조작을 진행"
   ],
   "metadata": {
    "collapsed": false
   }
  },
  {
   "cell_type": "code",
   "execution_count": 3,
   "outputs": [],
   "source": [
    "# sql문\n",
    "query=\"SELECT cert_data->>'date' AS date, cert_data->>'check' as CHECK, cert_data->>'image' as image, data_row->>'challenge_id' as challenge_id FROM member m , jsonb_array_elements(m.certification) AS data_row,jsonb_array_elements(data_row->'cert') AS cert_data;\"\n",
    "# query=\"select * from member\"\n",
    "cur.execute(query)"
   ],
   "metadata": {
    "collapsed": false
   }
  },
  {
   "cell_type": "code",
   "execution_count": 4,
   "outputs": [
    {
     "name": "stdout",
     "output_type": "stream",
     "text": [
      "('2023-07-14T13:35:00.778+09', 'PASS', 'https://talk.kakaocdn.net/dna/jZjjO/bl56xYLfH0R/yKcoyJmmhNHLkhMwaaV1HT/i_f3fe1b67a1e2.jpg?credential=zf3biCPbmWRjbqf40YGePFLewdou7TIK&expires=1783917292&signature=edqbt45sRthFgrLI70X96l7UXQs%3D', '1')\n",
      "('2023-07-18T09:10:37.274+09', 'PASS', 'https://talk.kakaocdn.net/dna/bpSLyb/bl57nreDKVP/0Z9RygeLdKho5iEzsEWW6y/i_471e45558c1a.jpg?credential=zf3biCPbmWRjbqf40YGePFLewdou7TIK&expires=1784247026&signature=%2FySI7KII2ee90mTIVevVgGd%2Fiic%3D', '1')\n",
      "('2023-07-18T12:52:52.297+09', 'PASS', 'https://talk.kakaocdn.net/dna/3GIxK/bl57nooHc28/BvL2NMUp9VOfCQVFHqeOqY/i_4426ee1d418d.heic?credential=zf3biCPbmWRjbqf40YGePFLewdou7TIK&expires=1784260367&signature=AzR3%2FDRLfPMsijzMwLemh4UqPU8%3D', '1')\n"
     ]
    }
   ],
   "source": [
    "rows = cur.fetchall()\n",
    "for i in range(3):\n",
    "  print(rows[i])"
   ],
   "metadata": {
    "collapsed": false
   }
  },
  {
   "cell_type": "code",
   "execution_count": 5,
   "outputs": [
    {
     "data": {
      "text/plain": "                         date check  \\\n0  2023-07-14T13:35:00.778+09  PASS   \n1  2023-07-18T09:10:37.274+09  PASS   \n2  2023-07-18T12:52:52.297+09  PASS   \n3  2023-07-19T08:32:29.376+09  PASS   \n4  2023-07-20T08:25:49.358+09  PASS   \n\n                                               image challenge_id  \n0  https://talk.kakaocdn.net/dna/jZjjO/bl56xYLfH0...            1  \n1  https://talk.kakaocdn.net/dna/bpSLyb/bl57nreDK...            1  \n2  https://talk.kakaocdn.net/dna/3GIxK/bl57nooHc2...            1  \n3  https://talk.kakaocdn.net/dna/cA70ZM/bl56Sbjpn...            1  \n4  https://talk.kakaocdn.net/dna/V7rc5/bl57nqfQ3M...            1  ",
      "text/html": "<div>\n<style scoped>\n    .dataframe tbody tr th:only-of-type {\n        vertical-align: middle;\n    }\n\n    .dataframe tbody tr th {\n        vertical-align: top;\n    }\n\n    .dataframe thead th {\n        text-align: right;\n    }\n</style>\n<table border=\"1\" class=\"dataframe\">\n  <thead>\n    <tr style=\"text-align: right;\">\n      <th></th>\n      <th>date</th>\n      <th>check</th>\n      <th>image</th>\n      <th>challenge_id</th>\n    </tr>\n  </thead>\n  <tbody>\n    <tr>\n      <th>0</th>\n      <td>2023-07-14T13:35:00.778+09</td>\n      <td>PASS</td>\n      <td>https://talk.kakaocdn.net/dna/jZjjO/bl56xYLfH0...</td>\n      <td>1</td>\n    </tr>\n    <tr>\n      <th>1</th>\n      <td>2023-07-18T09:10:37.274+09</td>\n      <td>PASS</td>\n      <td>https://talk.kakaocdn.net/dna/bpSLyb/bl57nreDK...</td>\n      <td>1</td>\n    </tr>\n    <tr>\n      <th>2</th>\n      <td>2023-07-18T12:52:52.297+09</td>\n      <td>PASS</td>\n      <td>https://talk.kakaocdn.net/dna/3GIxK/bl57nooHc2...</td>\n      <td>1</td>\n    </tr>\n    <tr>\n      <th>3</th>\n      <td>2023-07-19T08:32:29.376+09</td>\n      <td>PASS</td>\n      <td>https://talk.kakaocdn.net/dna/cA70ZM/bl56Sbjpn...</td>\n      <td>1</td>\n    </tr>\n    <tr>\n      <th>4</th>\n      <td>2023-07-20T08:25:49.358+09</td>\n      <td>PASS</td>\n      <td>https://talk.kakaocdn.net/dna/V7rc5/bl57nqfQ3M...</td>\n      <td>1</td>\n    </tr>\n  </tbody>\n</table>\n</div>"
     },
     "execution_count": 5,
     "metadata": {},
     "output_type": "execute_result"
    }
   ],
   "source": [
    "df=pd.DataFrame(rows,columns=['date','check','image','challenge_id'])\n",
    "df.head()"
   ],
   "metadata": {
    "collapsed": false
   }
  },
  {
   "cell_type": "code",
   "execution_count": 6,
   "outputs": [
    {
     "name": "stdout",
     "output_type": "stream",
     "text": [
      "6476\n"
     ]
    }
   ],
   "source": [
    "print(len(df))\n",
    "cur.close()\n",
    "connection.close()"
   ],
   "metadata": {
    "collapsed": false
   }
  },
  {
   "cell_type": "code",
   "execution_count": 7,
   "outputs": [
    {
     "data": {
      "text/plain": "   challenge_id      check  count\n0             1       FAIL     10\n1             1       PASS   2058\n2             1  UNCHECKED   1262\n3             2       FAIL      4\n4             2       PASS    306\n5             2  UNCHECKED    349\n6             3       FAIL      3\n7             3       PASS    192\n8             3  UNCHECKED    109\n9             4       FAIL      1\n10            4       PASS      4\n11            4  UNCHECKED     19\n12            5       FAIL      3\n13            5       PASS    900\n14            5  UNCHECKED    732\n15            6       FAIL      2\n16            6       PASS    293\n17            6  UNCHECKED    229",
      "text/html": "<div>\n<style scoped>\n    .dataframe tbody tr th:only-of-type {\n        vertical-align: middle;\n    }\n\n    .dataframe tbody tr th {\n        vertical-align: top;\n    }\n\n    .dataframe thead th {\n        text-align: right;\n    }\n</style>\n<table border=\"1\" class=\"dataframe\">\n  <thead>\n    <tr style=\"text-align: right;\">\n      <th></th>\n      <th>challenge_id</th>\n      <th>check</th>\n      <th>count</th>\n    </tr>\n  </thead>\n  <tbody>\n    <tr>\n      <th>0</th>\n      <td>1</td>\n      <td>FAIL</td>\n      <td>10</td>\n    </tr>\n    <tr>\n      <th>1</th>\n      <td>1</td>\n      <td>PASS</td>\n      <td>2058</td>\n    </tr>\n    <tr>\n      <th>2</th>\n      <td>1</td>\n      <td>UNCHECKED</td>\n      <td>1262</td>\n    </tr>\n    <tr>\n      <th>3</th>\n      <td>2</td>\n      <td>FAIL</td>\n      <td>4</td>\n    </tr>\n    <tr>\n      <th>4</th>\n      <td>2</td>\n      <td>PASS</td>\n      <td>306</td>\n    </tr>\n    <tr>\n      <th>5</th>\n      <td>2</td>\n      <td>UNCHECKED</td>\n      <td>349</td>\n    </tr>\n    <tr>\n      <th>6</th>\n      <td>3</td>\n      <td>FAIL</td>\n      <td>3</td>\n    </tr>\n    <tr>\n      <th>7</th>\n      <td>3</td>\n      <td>PASS</td>\n      <td>192</td>\n    </tr>\n    <tr>\n      <th>8</th>\n      <td>3</td>\n      <td>UNCHECKED</td>\n      <td>109</td>\n    </tr>\n    <tr>\n      <th>9</th>\n      <td>4</td>\n      <td>FAIL</td>\n      <td>1</td>\n    </tr>\n    <tr>\n      <th>10</th>\n      <td>4</td>\n      <td>PASS</td>\n      <td>4</td>\n    </tr>\n    <tr>\n      <th>11</th>\n      <td>4</td>\n      <td>UNCHECKED</td>\n      <td>19</td>\n    </tr>\n    <tr>\n      <th>12</th>\n      <td>5</td>\n      <td>FAIL</td>\n      <td>3</td>\n    </tr>\n    <tr>\n      <th>13</th>\n      <td>5</td>\n      <td>PASS</td>\n      <td>900</td>\n    </tr>\n    <tr>\n      <th>14</th>\n      <td>5</td>\n      <td>UNCHECKED</td>\n      <td>732</td>\n    </tr>\n    <tr>\n      <th>15</th>\n      <td>6</td>\n      <td>FAIL</td>\n      <td>2</td>\n    </tr>\n    <tr>\n      <th>16</th>\n      <td>6</td>\n      <td>PASS</td>\n      <td>293</td>\n    </tr>\n    <tr>\n      <th>17</th>\n      <td>6</td>\n      <td>UNCHECKED</td>\n      <td>229</td>\n    </tr>\n  </tbody>\n</table>\n</div>"
     },
     "execution_count": 7,
     "metadata": {},
     "output_type": "execute_result"
    }
   ],
   "source": [
    "result = df.groupby(['challenge_id', 'check']).size().reset_index(name='count')\n",
    "result"
   ],
   "metadata": {
    "collapsed": false
   }
  },
  {
   "cell_type": "code",
   "execution_count": 8,
   "outputs": [
    {
     "data": {
      "text/plain": "                           date      check  \\\n29   2023-07-31T20:05:18.259+09       FAIL   \n30   2023-08-01T17:37:05.856+09       FAIL   \n77   2023-09-07T16:36:39.962+09       FAIL   \n229  2023-11-01T02:53:47.270+09  UNCHECKED   \n230  2023-11-05T17:43:27.850+09  UNCHECKED   \n\n                                                 image challenge_id  \n29   https://talk.kakaocdn.net/dna/ja4Ab/bl58VCeJRd...            2  \n30   https://talk.kakaocdn.net/dna/eHclQE/bl58rQx7P...            2  \n77   https://talk.kakaocdn.net/dna/RDerk/bl6eEk0xut...            4  \n229  https://talk.kakaocdn.net/dna/jEmx3/bl6m90MMzR...            4  \n230  https://talk.kakaocdn.net/dna/cJFsif/bl6nUY1Kb...            4  ",
      "text/html": "<div>\n<style scoped>\n    .dataframe tbody tr th:only-of-type {\n        vertical-align: middle;\n    }\n\n    .dataframe tbody tr th {\n        vertical-align: top;\n    }\n\n    .dataframe thead th {\n        text-align: right;\n    }\n</style>\n<table border=\"1\" class=\"dataframe\">\n  <thead>\n    <tr style=\"text-align: right;\">\n      <th></th>\n      <th>date</th>\n      <th>check</th>\n      <th>image</th>\n      <th>challenge_id</th>\n    </tr>\n  </thead>\n  <tbody>\n    <tr>\n      <th>29</th>\n      <td>2023-07-31T20:05:18.259+09</td>\n      <td>FAIL</td>\n      <td>https://talk.kakaocdn.net/dna/ja4Ab/bl58VCeJRd...</td>\n      <td>2</td>\n    </tr>\n    <tr>\n      <th>30</th>\n      <td>2023-08-01T17:37:05.856+09</td>\n      <td>FAIL</td>\n      <td>https://talk.kakaocdn.net/dna/eHclQE/bl58rQx7P...</td>\n      <td>2</td>\n    </tr>\n    <tr>\n      <th>77</th>\n      <td>2023-09-07T16:36:39.962+09</td>\n      <td>FAIL</td>\n      <td>https://talk.kakaocdn.net/dna/RDerk/bl6eEk0xut...</td>\n      <td>4</td>\n    </tr>\n    <tr>\n      <th>229</th>\n      <td>2023-11-01T02:53:47.270+09</td>\n      <td>UNCHECKED</td>\n      <td>https://talk.kakaocdn.net/dna/jEmx3/bl6m90MMzR...</td>\n      <td>4</td>\n    </tr>\n    <tr>\n      <th>230</th>\n      <td>2023-11-05T17:43:27.850+09</td>\n      <td>UNCHECKED</td>\n      <td>https://talk.kakaocdn.net/dna/cJFsif/bl6nUY1Kb...</td>\n      <td>4</td>\n    </tr>\n  </tbody>\n</table>\n</div>"
     },
     "execution_count": 8,
     "metadata": {},
     "output_type": "execute_result"
    }
   ],
   "source": [
    "delivery_df = df[df['challenge_id'].isin(['2', '4'])]  # 배달비 절약 챌린지\n",
    "# selected_df = df[(df['challenge_id']=='1') | (df['challenge_id']=='2')]\n",
    "len(delivery_df)\n",
    "delivery_df.head()"
   ],
   "metadata": {
    "collapsed": false
   }
  },
  {
   "cell_type": "code",
   "execution_count": 9,
   "outputs": [
    {
     "data": {
      "text/plain": "683"
     },
     "execution_count": 9,
     "metadata": {},
     "output_type": "execute_result"
    }
   ],
   "source": [
    "import requests\n",
    "import os\n",
    "image_urls=delivery_df.image\n",
    "# default_path=' C:/Users/irene/PycharmProjects/downloadImage/delivery_challenge'\n",
    "# print(os.path.join(default_path, 'delivery_challenge'))\n",
    "# default_path='C:\\Users\\irene\\PycharmProjects\\downloadImage\\venv\\delivery_challenge'\n",
    "default_path='venv/delivery_challenge'"
   ],
   "metadata": {
    "collapsed": false
   }
  },
  {
   "cell_type": "code",
   "execution_count": 10,
   "outputs": [],
   "source": [
    "for i,url in enumerate(image_urls):\n",
    "    response = requests.get(url)\n",
    "    if response.status_code == 200:\n",
    "        # 이미지를 'downloaded_images' 폴더에 저장\n",
    "        with open(default_path+'/'+str(i)+'*'+f'{hash(url)}.jpg', 'wb') as f:\n",
    "            f.write(response.content)\n",
    "    else:\n",
    "        print(f\"Failed to download image from {url}\")"
   ],
   "metadata": {
    "collapsed": false
   }
  },
  {
   "cell_type": "code",
   "execution_count": 12,
   "outputs": [],
   "source": [],
   "metadata": {
    "collapsed": false
   }
  }
 ],
 "metadata": {
  "kernelspec": {
   "display_name": "Python 3",
   "language": "python",
   "name": "python3"
  },
  "language_info": {
   "codemirror_mode": {
    "name": "ipython",
    "version": 2
   },
   "file_extension": ".py",
   "mimetype": "text/x-python",
   "name": "python",
   "nbconvert_exporter": "python",
   "pygments_lexer": "ipython2",
   "version": "2.7.6"
  }
 },
 "nbformat": 4,
 "nbformat_minor": 0
}
